{
  "nbformat": 4,
  "nbformat_minor": 0,
  "metadata": {
    "colab": {
      "provenance": []
    },
    "kernelspec": {
      "name": "python3",
      "display_name": "Python 3"
    },
    "language_info": {
      "name": "python"
    }
  },
  "cells": [
    {
      "cell_type": "markdown",
      "source": [
        "# bwa"
      ],
      "metadata": {
        "id": "SWeXgBioU558"
      }
    },
    {
      "cell_type": "markdown",
      "source": [
        "- paper: Aligning sequence reads, clone sequences and assembly contigs with BWA-MEM\n",
        "- papar url:  https://arxiv.org/abs/1303.3997\n",
        "- github: https://github.com/lh3/bwa\n",
        "- My github: https://github.com/jingwora/bwa"
      ],
      "metadata": {
        "id": "1l6O_t4UShwy"
      }
    },
    {
      "cell_type": "markdown",
      "source": [
        "- Reference: https://www.youtube.com/watch?v=PSYnQMRSoPY"
      ],
      "metadata": {
        "id": "Un8UHNl9XZfT"
      }
    },
    {
      "cell_type": "markdown",
      "source": [
        "実験：\n",
        "1. Agy99.fasta -> index  [bwa index]\n",
        "2. R1.fastq.gz + R2.fastq.gz + Index -> unsorted.bam [bwa mem]\n",
        "\n",
        "- データロード:　02:56　分\n",
        "- 処理:　06:54　分\n",
        "- 合計:　09:51　分\n",
        "\n"
      ],
      "metadata": {
        "id": "tdwG1f6fKkAG"
      }
    },
    {
      "cell_type": "code",
      "source": [
        "from datetime import datetime\n",
        "time01 = datetime.now()"
      ],
      "metadata": {
        "id": "3fA3RBDLLlTE"
      },
      "execution_count": 1,
      "outputs": []
    },
    {
      "cell_type": "markdown",
      "source": [
        "## BWA"
      ],
      "metadata": {
        "id": "fAQq9Z_OBMcg"
      }
    },
    {
      "cell_type": "code",
      "source": [
        "!git clone https://github.com/lh3/bwa.git\n",
        "!cd bwa; make\n",
        "!./bwa index ref.fa\n",
        "!./bwa mem ref.fa read-se.fq.gz | gzip -3 > aln-se.sam.gz\n",
        "!./bwa mem ref.fa read1.fq read2.fq | gzip -3 > aln-pe.sam.gz"
      ],
      "metadata": {
        "colab": {
          "base_uri": "https://localhost:8080/"
        },
        "id": "9_ZmaHvJBOlq",
        "outputId": "0b24ec05-7bb4-4ce8-8b24-bf07dc5a3515"
      },
      "execution_count": 2,
      "outputs": [
        {
          "output_type": "stream",
          "name": "stdout",
          "text": [
            "Cloning into 'bwa'...\n",
            "remote: Enumerating objects: 4398, done.\u001b[K\n",
            "remote: Counting objects: 100% (87/87), done.\u001b[K\n",
            "remote: Compressing objects: 100% (57/57), done.\u001b[K\n",
            "remote: Total 4398 (delta 38), reused 53 (delta 26), pack-reused 4311\u001b[K\n",
            "Receiving objects: 100% (4398/4398), 1.72 MiB | 12.69 MiB/s, done.\n",
            "Resolving deltas: 100% (3123/3123), done.\n",
            "gcc -c -g -Wall -Wno-unused-function -O2 -DHAVE_PTHREAD -DUSE_MALLOC_WRAPPERS   utils.c -o utils.o\n",
            "gcc -c -g -Wall -Wno-unused-function -O2 -DHAVE_PTHREAD -DUSE_MALLOC_WRAPPERS   kthread.c -o kthread.o\n",
            "gcc -c -g -Wall -Wno-unused-function -O2 -DHAVE_PTHREAD -DUSE_MALLOC_WRAPPERS   kstring.c -o kstring.o\n",
            "gcc -c -g -Wall -Wno-unused-function -O2 -DHAVE_PTHREAD -DUSE_MALLOC_WRAPPERS   ksw.c -o ksw.o\n",
            "gcc -c -g -Wall -Wno-unused-function -O2 -DHAVE_PTHREAD -DUSE_MALLOC_WRAPPERS   bwt.c -o bwt.o\n",
            "gcc -c -g -Wall -Wno-unused-function -O2 -DHAVE_PTHREAD -DUSE_MALLOC_WRAPPERS   bntseq.c -o bntseq.o\n",
            "gcc -c -g -Wall -Wno-unused-function -O2 -DHAVE_PTHREAD -DUSE_MALLOC_WRAPPERS   bwa.c -o bwa.o\n",
            "gcc -c -g -Wall -Wno-unused-function -O2 -DHAVE_PTHREAD -DUSE_MALLOC_WRAPPERS   bwamem.c -o bwamem.o\n",
            "gcc -c -g -Wall -Wno-unused-function -O2 -DHAVE_PTHREAD -DUSE_MALLOC_WRAPPERS   bwamem_pair.c -o bwamem_pair.o\n",
            "gcc -c -g -Wall -Wno-unused-function -O2 -DHAVE_PTHREAD -DUSE_MALLOC_WRAPPERS   bwamem_extra.c -o bwamem_extra.o\n",
            "gcc -c -g -Wall -Wno-unused-function -O2 -DHAVE_PTHREAD -DUSE_MALLOC_WRAPPERS   malloc_wrap.c -o malloc_wrap.o\n",
            "gcc -c -g -Wall -Wno-unused-function -O2 -DHAVE_PTHREAD -DUSE_MALLOC_WRAPPERS   QSufSort.c -o QSufSort.o\n",
            "gcc -c -g -Wall -Wno-unused-function -O2 -DHAVE_PTHREAD -DUSE_MALLOC_WRAPPERS   bwt_gen.c -o bwt_gen.o\n",
            "\u001b[01m\u001b[Kbwt_gen.c:\u001b[m\u001b[K In function ‘\u001b[01m\u001b[KBWTIncBuildRelativeRank\u001b[m\u001b[K’:\n",
            "\u001b[01m\u001b[Kbwt_gen.c:879:10:\u001b[m\u001b[K \u001b[01;35m\u001b[Kwarning: \u001b[m\u001b[Kvariable ‘\u001b[01m\u001b[KoldInverseSa0RelativeRank\u001b[m\u001b[K’ set but not used [\u001b[01;35m\u001b[K-Wunused-but-set-variable\u001b[m\u001b[K]\n",
            "  bgint_t \u001b[01;35m\u001b[KoldInverseSa0RelativeRank\u001b[m\u001b[K = 0;\n",
            "          \u001b[01;35m\u001b[K^~~~~~~~~~~~~~~~~~~~~~~~~\u001b[m\u001b[K\n",
            "\u001b[01m\u001b[Kbwt_gen.c:\u001b[m\u001b[K In function ‘\u001b[01m\u001b[KBWTIncMergeBwt\u001b[m\u001b[K’:\n",
            "\u001b[01m\u001b[Kbwt_gen.c:953:15:\u001b[m\u001b[K \u001b[01;35m\u001b[Kwarning: \u001b[m\u001b[Kvariable ‘\u001b[01m\u001b[KbitsInWordMinusBitPerChar\u001b[m\u001b[K’ set but not used [\u001b[01;35m\u001b[K-Wunused-but-set-variable\u001b[m\u001b[K]\n",
            "  unsigned int \u001b[01;35m\u001b[KbitsInWordMinusBitPerChar\u001b[m\u001b[K;\n",
            "               \u001b[01;35m\u001b[K^~~~~~~~~~~~~~~~~~~~~~~~~\u001b[m\u001b[K\n",
            "gcc -c -g -Wall -Wno-unused-function -O2 -DHAVE_PTHREAD -DUSE_MALLOC_WRAPPERS   rope.c -o rope.o\n",
            "\u001b[01m\u001b[Krope.c:\u001b[m\u001b[K In function ‘\u001b[01m\u001b[Krope_restore_node\u001b[m\u001b[K’:\n",
            "\u001b[01m\u001b[Krope.c:282:2:\u001b[m\u001b[K \u001b[01;35m\u001b[Kwarning: \u001b[m\u001b[Kignoring return value of ‘\u001b[01m\u001b[Kfread\u001b[m\u001b[K’, declared with attribute warn_unused_result [\u001b[01;35m\u001b[K-Wunused-result\u001b[m\u001b[K]\n",
            "  \u001b[01;35m\u001b[Kfread(&is_bottom, 1, 1, fp)\u001b[m\u001b[K;\n",
            "  \u001b[01;35m\u001b[K^~~~~~~~~~~~~~~~~~~~~~~~~~~\u001b[m\u001b[K\n",
            "\u001b[01m\u001b[Krope.c:283:2:\u001b[m\u001b[K \u001b[01;35m\u001b[Kwarning: \u001b[m\u001b[Kignoring return value of ‘\u001b[01m\u001b[Kfread\u001b[m\u001b[K’, declared with attribute warn_unused_result [\u001b[01;35m\u001b[K-Wunused-result\u001b[m\u001b[K]\n",
            "  \u001b[01;35m\u001b[Kfread(&n, 2, 1, fp)\u001b[m\u001b[K;\n",
            "  \u001b[01;35m\u001b[K^~~~~~~~~~~~~~~~~~~\u001b[m\u001b[K\n",
            "\u001b[01m\u001b[Krope.c:291:4:\u001b[m\u001b[K \u001b[01;35m\u001b[Kwarning: \u001b[m\u001b[Kignoring return value of ‘\u001b[01m\u001b[Kfread\u001b[m\u001b[K’, declared with attribute warn_unused_result [\u001b[01;35m\u001b[K-Wunused-result\u001b[m\u001b[K]\n",
            "    \u001b[01;35m\u001b[Kfread(p[i].c, 8, 6, fp)\u001b[m\u001b[K;\n",
            "    \u001b[01;35m\u001b[K^~~~~~~~~~~~~~~~~~~~~~~\u001b[m\u001b[K\n",
            "\u001b[01m\u001b[Krope.c:292:4:\u001b[m\u001b[K \u001b[01;35m\u001b[Kwarning: \u001b[m\u001b[Kignoring return value of ‘\u001b[01m\u001b[Kfread\u001b[m\u001b[K’, declared with attribute warn_unused_result [\u001b[01;35m\u001b[K-Wunused-result\u001b[m\u001b[K]\n",
            "    \u001b[01;35m\u001b[Kfread(q, 2, 1, fp)\u001b[m\u001b[K;\n",
            "    \u001b[01;35m\u001b[K^~~~~~~~~~~~~~~~~~\u001b[m\u001b[K\n",
            "\u001b[01m\u001b[Krope.c:293:4:\u001b[m\u001b[K \u001b[01;35m\u001b[Kwarning: \u001b[m\u001b[Kignoring return value of ‘\u001b[01m\u001b[Kfread\u001b[m\u001b[K’, declared with attribute warn_unused_result [\u001b[01;35m\u001b[K-Wunused-result\u001b[m\u001b[K]\n",
            "    \u001b[01;35m\u001b[Kfread(q + 1, 1, *q, fp)\u001b[m\u001b[K;\n",
            "    \u001b[01;35m\u001b[K^~~~~~~~~~~~~~~~~~~~~~~\u001b[m\u001b[K\n",
            "\u001b[01m\u001b[Krope.c:\u001b[m\u001b[K In function ‘\u001b[01m\u001b[Krope_restore\u001b[m\u001b[K’:\n",
            "\u001b[01m\u001b[Krope.c:312:2:\u001b[m\u001b[K \u001b[01;35m\u001b[Kwarning: \u001b[m\u001b[Kignoring return value of ‘\u001b[01m\u001b[Kfread\u001b[m\u001b[K’, declared with attribute warn_unused_result [\u001b[01;35m\u001b[K-Wunused-result\u001b[m\u001b[K]\n",
            "  \u001b[01;35m\u001b[Kfread(&r->max_nodes, 4, 1, fp)\u001b[m\u001b[K;\n",
            "  \u001b[01;35m\u001b[K^~~~~~~~~~~~~~~~~~~~~~~~~~~~~~\u001b[m\u001b[K\n",
            "\u001b[01m\u001b[Krope.c:313:2:\u001b[m\u001b[K \u001b[01;35m\u001b[Kwarning: \u001b[m\u001b[Kignoring return value of ‘\u001b[01m\u001b[Kfread\u001b[m\u001b[K’, declared with attribute warn_unused_result [\u001b[01;35m\u001b[K-Wunused-result\u001b[m\u001b[K]\n",
            "  \u001b[01;35m\u001b[Kfread(&r->block_len, 4, 1, fp)\u001b[m\u001b[K;\n",
            "  \u001b[01;35m\u001b[K^~~~~~~~~~~~~~~~~~~~~~~~~~~~~~\u001b[m\u001b[K\n",
            "gcc -c -g -Wall -Wno-unused-function -O2 -DHAVE_PTHREAD -DUSE_MALLOC_WRAPPERS   rle.c -o rle.o\n",
            "gcc -c -g -Wall -Wno-unused-function -O2 -DHAVE_PTHREAD -DUSE_MALLOC_WRAPPERS   is.c -o is.o\n",
            "gcc -c -g -Wall -Wno-unused-function -O2 -DHAVE_PTHREAD -DUSE_MALLOC_WRAPPERS   bwtindex.c -o bwtindex.o\n",
            "ar -csru libbwa.a utils.o kthread.o kstring.o ksw.o bwt.o bntseq.o bwa.o bwamem.o bwamem_pair.o bwamem_extra.o malloc_wrap.o QSufSort.o bwt_gen.o rope.o rle.o is.o bwtindex.o\n",
            "ar: `u' modifier ignored since `D' is the default (see `U')\n",
            "gcc -c -g -Wall -Wno-unused-function -O2 -DHAVE_PTHREAD -DUSE_MALLOC_WRAPPERS   bwashm.c -o bwashm.o\n",
            "\u001b[01m\u001b[Kbwashm.c:\u001b[m\u001b[K In function ‘\u001b[01m\u001b[Kbwa_shm_stage\u001b[m\u001b[K’:\n",
            "\u001b[01m\u001b[Kbwashm.c:29:2:\u001b[m\u001b[K \u001b[01;35m\u001b[Kwarning: \u001b[m\u001b[Kignoring return value of ‘\u001b[01m\u001b[Kftruncate\u001b[m\u001b[K’, declared with attribute warn_unused_result [\u001b[01;35m\u001b[K-Wunused-result\u001b[m\u001b[K]\n",
            "  \u001b[01;35m\u001b[Kftruncate(shmid, BWA_CTL_SIZE)\u001b[m\u001b[K;\n",
            "  \u001b[01;35m\u001b[K^~~~~~~~~~~~~~~~~~~~~~~~~~~~~~\u001b[m\u001b[K\n",
            "\u001b[01m\u001b[Kbwashm.c:66:2:\u001b[m\u001b[K \u001b[01;35m\u001b[Kwarning: \u001b[m\u001b[Kignoring return value of ‘\u001b[01m\u001b[Kftruncate\u001b[m\u001b[K’, declared with attribute warn_unused_result [\u001b[01;35m\u001b[K-Wunused-result\u001b[m\u001b[K]\n",
            "  \u001b[01;35m\u001b[Kftruncate(shmid, idx->l_mem)\u001b[m\u001b[K;\n",
            "  \u001b[01;35m\u001b[K^~~~~~~~~~~~~~~~~~~~~~~~~~~~\u001b[m\u001b[K\n",
            "gcc -c -g -Wall -Wno-unused-function -O2 -DHAVE_PTHREAD -DUSE_MALLOC_WRAPPERS   bwase.c -o bwase.o\n",
            "gcc -c -g -Wall -Wno-unused-function -O2 -DHAVE_PTHREAD -DUSE_MALLOC_WRAPPERS   bwaseqio.c -o bwaseqio.o\n",
            "gcc -c -g -Wall -Wno-unused-function -O2 -DHAVE_PTHREAD -DUSE_MALLOC_WRAPPERS   bwtgap.c -o bwtgap.o\n",
            "gcc -c -g -Wall -Wno-unused-function -O2 -DHAVE_PTHREAD -DUSE_MALLOC_WRAPPERS   bwtaln.c -o bwtaln.o\n",
            "gcc -c -g -Wall -Wno-unused-function -O2 -DHAVE_PTHREAD -DUSE_MALLOC_WRAPPERS   bamlite.c -o bamlite.o\n",
            "gcc -c -g -Wall -Wno-unused-function -O2 -DHAVE_PTHREAD -DUSE_MALLOC_WRAPPERS   bwape.c -o bwape.o\n",
            "gcc -c -g -Wall -Wno-unused-function -O2 -DHAVE_PTHREAD -DUSE_MALLOC_WRAPPERS   kopen.c -o kopen.o\n",
            "gcc -c -g -Wall -Wno-unused-function -O2 -DHAVE_PTHREAD -DUSE_MALLOC_WRAPPERS   pemerge.c -o pemerge.o\n",
            "gcc -c -g -Wall -Wno-unused-function -O2 -DHAVE_PTHREAD -DUSE_MALLOC_WRAPPERS   maxk.c -o maxk.o\n",
            "gcc -c -g -Wall -Wno-unused-function -O2 -DHAVE_PTHREAD -DUSE_MALLOC_WRAPPERS   bwtsw2_core.c -o bwtsw2_core.o\n",
            "gcc -c -g -Wall -Wno-unused-function -O2 -DHAVE_PTHREAD -DUSE_MALLOC_WRAPPERS   bwtsw2_main.c -o bwtsw2_main.o\n",
            "gcc -c -g -Wall -Wno-unused-function -O2 -DHAVE_PTHREAD -DUSE_MALLOC_WRAPPERS   bwtsw2_aux.c -o bwtsw2_aux.o\n",
            "gcc -c -g -Wall -Wno-unused-function -O2 -DHAVE_PTHREAD -DUSE_MALLOC_WRAPPERS   bwt_lite.c -o bwt_lite.o\n",
            "gcc -c -g -Wall -Wno-unused-function -O2 -DHAVE_PTHREAD -DUSE_MALLOC_WRAPPERS   bwtsw2_chain.c -o bwtsw2_chain.o\n",
            "gcc -c -g -Wall -Wno-unused-function -O2 -DHAVE_PTHREAD -DUSE_MALLOC_WRAPPERS   fastmap.c -o fastmap.o\n",
            "gcc -c -g -Wall -Wno-unused-function -O2 -DHAVE_PTHREAD -DUSE_MALLOC_WRAPPERS   bwtsw2_pair.c -o bwtsw2_pair.o\n",
            "gcc -c -g -Wall -Wno-unused-function -O2 -DHAVE_PTHREAD -DUSE_MALLOC_WRAPPERS   main.c -o main.o\n",
            "gcc -g -Wall -Wno-unused-function -O2  bwashm.o bwase.o bwaseqio.o bwtgap.o bwtaln.o bamlite.o bwape.o kopen.o pemerge.o maxk.o bwtsw2_core.o bwtsw2_main.o bwtsw2_aux.o bwt_lite.o bwtsw2_chain.o fastmap.o bwtsw2_pair.o main.o -o bwa -L. -lbwa -lm -lz -lpthread -lrt\n",
            "/bin/bash: ./bwa: Is a directory\n",
            "/bin/bash: ./bwa: Is a directory\n",
            "/bin/bash: ./bwa: Is a directory\n"
          ]
        }
      ]
    },
    {
      "cell_type": "markdown",
      "source": [
        "## ダウンロード \n",
        "- fastq.gz R1 R2"
      ],
      "metadata": {
        "id": "VYYceJ6P6e5i"
      }
    },
    {
      "cell_type": "code",
      "source": [
        "!wget http://ftp.sra.ebi.ac.uk/vol1/run/ERR333/ERR3335404/P7741_R1.fastq.gz"
      ],
      "metadata": {
        "colab": {
          "base_uri": "https://localhost:8080/"
        },
        "id": "lxeYTF6e5tgS",
        "outputId": "131eaee1-d7b6-43dc-ce31-b857d7a187d2"
      },
      "execution_count": 3,
      "outputs": [
        {
          "output_type": "stream",
          "name": "stdout",
          "text": [
            "--2023-01-03 01:29:31--  http://ftp.sra.ebi.ac.uk/vol1/run/ERR333/ERR3335404/P7741_R1.fastq.gz\n",
            "Resolving ftp.sra.ebi.ac.uk (ftp.sra.ebi.ac.uk)... 193.62.193.138\n",
            "Connecting to ftp.sra.ebi.ac.uk (ftp.sra.ebi.ac.uk)|193.62.193.138|:80... connected.\n",
            "HTTP request sent, awaiting response... 200 OK\n",
            "Length: 48483635 (46M) [application/x-gzip]\n",
            "Saving to: ‘P7741_R1.fastq.gz’\n",
            "\n",
            "P7741_R1.fastq.gz   100%[===================>]  46.24M   631KB/s    in 75s     \n",
            "\n",
            "2023-01-03 01:30:47 (628 KB/s) - ‘P7741_R1.fastq.gz’ saved [48483635/48483635]\n",
            "\n"
          ]
        }
      ]
    },
    {
      "cell_type": "code",
      "source": [
        "!wget http://ftp.sra.ebi.ac.uk/vol1/run/ERR333/ERR3335404/P7741_R2.fastq.gz"
      ],
      "metadata": {
        "colab": {
          "base_uri": "https://localhost:8080/"
        },
        "id": "dHaPX3qm5tcx",
        "outputId": "fe7df473-00f9-4fde-d3af-b07e4c3e2efb"
      },
      "execution_count": 4,
      "outputs": [
        {
          "output_type": "stream",
          "name": "stdout",
          "text": [
            "--2023-01-03 01:30:47--  http://ftp.sra.ebi.ac.uk/vol1/run/ERR333/ERR3335404/P7741_R2.fastq.gz\n",
            "Resolving ftp.sra.ebi.ac.uk (ftp.sra.ebi.ac.uk)... 193.62.193.138\n",
            "Connecting to ftp.sra.ebi.ac.uk (ftp.sra.ebi.ac.uk)|193.62.193.138|:80... connected.\n",
            "HTTP request sent, awaiting response... 200 OK\n",
            "Length: 54395207 (52M) [application/x-gzip]\n",
            "Saving to: ‘P7741_R2.fastq.gz’\n",
            "\n",
            "P7741_R2.fastq.gz   100%[===================>]  51.88M   642KB/s    in 83s     \n",
            "\n",
            "2023-01-03 01:32:12 (639 KB/s) - ‘P7741_R2.fastq.gz’ saved [54395207/54395207]\n",
            "\n"
          ]
        }
      ]
    },
    {
      "cell_type": "markdown",
      "source": [
        "- Mycobacterium ulcerans Agy99, complete genome from ncbi\n",
        "- https://www.ncbi.nlm.nih.gov/nuccore/CP000325.1"
      ],
      "metadata": {
        "id": "sZAarcoD7ZjT"
      }
    },
    {
      "cell_type": "code",
      "source": [
        "!wget https://github.com/jingwora/bwa/raw/master/dataset2/ncbi/Agy99.fasta"
      ],
      "metadata": {
        "colab": {
          "base_uri": "https://localhost:8080/"
        },
        "id": "hEaynNym5taL",
        "outputId": "404eaf3f-afbe-4512-f0c8-db63bd402603"
      },
      "execution_count": 5,
      "outputs": [
        {
          "output_type": "stream",
          "name": "stdout",
          "text": [
            "--2023-01-03 01:32:12--  https://github.com/jingwora/bwa/raw/master/dataset2/ncbi/Agy99.fasta\n",
            "Resolving github.com (github.com)... 140.82.113.4\n",
            "Connecting to github.com (github.com)|140.82.113.4|:443... connected.\n",
            "HTTP request sent, awaiting response... 302 Found\n",
            "Location: https://raw.githubusercontent.com/jingwora/bwa/master/dataset2/ncbi/Agy99.fasta [following]\n",
            "--2023-01-03 01:32:12--  https://raw.githubusercontent.com/jingwora/bwa/master/dataset2/ncbi/Agy99.fasta\n",
            "Resolving raw.githubusercontent.com (raw.githubusercontent.com)... 185.199.108.133, 185.199.109.133, 185.199.110.133, ...\n",
            "Connecting to raw.githubusercontent.com (raw.githubusercontent.com)|185.199.108.133|:443... connected.\n",
            "HTTP request sent, awaiting response... 200 OK\n",
            "Length: 5712117 (5.4M) [text/plain]\n",
            "Saving to: ‘Agy99.fasta’\n",
            "\n",
            "Agy99.fasta         100%[===================>]   5.45M  --.-KB/s    in 0.08s   \n",
            "\n",
            "2023-01-03 01:32:12 (71.2 MB/s) - ‘Agy99.fasta’ saved [5712117/5712117]\n",
            "\n"
          ]
        }
      ]
    },
    {
      "cell_type": "code",
      "source": [
        "!ls"
      ],
      "metadata": {
        "colab": {
          "base_uri": "https://localhost:8080/"
        },
        "id": "MN-Kh5wy5tXe",
        "outputId": "ec17048c-0641-49c8-db05-2f4fc196a8f0"
      },
      "execution_count": 6,
      "outputs": [
        {
          "output_type": "stream",
          "name": "stdout",
          "text": [
            "Agy99.fasta    aln-se.sam.gz  P7741_R1.fastq.gz  sample_data\n",
            "aln-pe.sam.gz  bwa\t      P7741_R2.fastq.gz\n"
          ]
        }
      ]
    },
    {
      "cell_type": "code",
      "source": [
        "time02 = datetime.now()"
      ],
      "metadata": {
        "id": "pu0CB_MeORcV"
      },
      "execution_count": 7,
      "outputs": []
    },
    {
      "cell_type": "markdown",
      "source": [
        "## Index"
      ],
      "metadata": {
        "id": "CmBJAww5B1xh"
      }
    },
    {
      "cell_type": "code",
      "source": [
        "!mkdir index\n",
        "!mv Agy99.fasta index/"
      ],
      "metadata": {
        "id": "fHd8IjcS5tU0"
      },
      "execution_count": 8,
      "outputs": []
    },
    {
      "cell_type": "code",
      "source": [
        "!bwa/bwa index index/Agy99.fasta"
      ],
      "metadata": {
        "colab": {
          "base_uri": "https://localhost:8080/"
        },
        "id": "tzCplEll_l-x",
        "outputId": "fe768839-524a-4fc2-957a-d86e64950e99"
      },
      "execution_count": 9,
      "outputs": [
        {
          "output_type": "stream",
          "name": "stdout",
          "text": [
            "[bwa_index] Pack FASTA... 0.06 sec\n",
            "[bwa_index] Construct BWT for the packed sequence...\n",
            "[bwa_index] 2.52 seconds elapse.\n",
            "[bwa_index] Update BWT... 0.04 sec\n",
            "[bwa_index] Pack forward-only FASTA... 0.03 sec\n",
            "[bwa_index] Construct SA from BWT and Occ... 0.98 sec\n",
            "[main] Version: 0.7.17-r1198-dirty\n",
            "[main] CMD: bwa/bwa index index/Agy99.fasta\n",
            "[main] Real time: 3.755 sec; CPU: 3.653 sec\n"
          ]
        }
      ]
    },
    {
      "cell_type": "code",
      "source": [
        "!ls /content/index"
      ],
      "metadata": {
        "colab": {
          "base_uri": "https://localhost:8080/"
        },
        "id": "3UxIjS71_l7K",
        "outputId": "9633ef96-9e32-41d0-87d0-d1b597a88cd5"
      },
      "execution_count": 10,
      "outputs": [
        {
          "output_type": "stream",
          "name": "stdout",
          "text": [
            "Agy99.fasta\t Agy99.fasta.ann  Agy99.fasta.pac\n",
            "Agy99.fasta.amb  Agy99.fasta.bwt  Agy99.fasta.sa\n"
          ]
        }
      ]
    },
    {
      "cell_type": "code",
      "source": [
        "!bwa/bwa mem -t 8 index/Agy99.fasta /content/P7741_R1.fastq.gz /content/P7741_R1.fastq.gz > output.unsorted.bam"
      ],
      "metadata": {
        "colab": {
          "base_uri": "https://localhost:8080/"
        },
        "id": "2qqBPGYu_l46",
        "outputId": "9ce79c7e-10e2-4b5d-9a70-f71ca342a4d6"
      },
      "execution_count": 11,
      "outputs": [
        {
          "output_type": "stream",
          "name": "stdout",
          "text": [
            "[M::bwa_idx_load_from_disk] read 0 ALT contigs\n",
            "[M::process] read 363142 sequences (80000404 bp)...\n",
            "[M::process] read 183000 sequences (43514078 bp)...\n",
            "[M::mem_pestat] # candidate unique pairs for (FF, FR, RF, RR): (0, 0, 0, 0)\n",
            "[M::mem_pestat] skip orientation FF as there are not enough pairs\n",
            "[M::mem_pestat] skip orientation FR as there are not enough pairs\n",
            "[M::mem_pestat] skip orientation RF as there are not enough pairs\n",
            "[M::mem_pestat] skip orientation RR as there are not enough pairs\n",
            "[M::mem_process_seqs] Processed 363142 reads in 469.621 CPU sec, 245.387 real sec\n",
            "[M::mem_pestat] # candidate unique pairs for (FF, FR, RF, RR): (0, 0, 0, 0)\n",
            "[M::mem_pestat] skip orientation FF as there are not enough pairs\n",
            "[M::mem_pestat] skip orientation FR as there are not enough pairs\n",
            "[M::mem_pestat] skip orientation RF as there are not enough pairs\n",
            "[M::mem_pestat] skip orientation RR as there are not enough pairs\n",
            "[M::mem_process_seqs] Processed 183000 reads in 312.429 CPU sec, 162.255 real sec\n",
            "[main] Version: 0.7.17-r1198-dirty\n",
            "[main] CMD: bwa/bwa mem -t 8 index/Agy99.fasta /content/P7741_R1.fastq.gz /content/P7741_R1.fastq.gz\n",
            "[main] Real time: 410.112 sec; CPU: 784.005 sec\n"
          ]
        }
      ]
    },
    {
      "cell_type": "code",
      "source": [
        "!ls"
      ],
      "metadata": {
        "colab": {
          "base_uri": "https://localhost:8080/"
        },
        "id": "SO0aLGVT_l2j",
        "outputId": "7d93b477-6c92-4139-caee-570c97ca952f"
      },
      "execution_count": 12,
      "outputs": [
        {
          "output_type": "stream",
          "name": "stdout",
          "text": [
            "aln-pe.sam.gz  bwa    output.unsorted.bam  P7741_R2.fastq.gz\n",
            "aln-se.sam.gz  index  P7741_R1.fastq.gz    sample_data\n"
          ]
        }
      ]
    },
    {
      "cell_type": "code",
      "source": [
        "time03 = datetime.now()\n",
        "\n",
        "print(f'Data Load Duration:  {time02 - time01}')\n",
        "print(f'Processing Duration: {time03 - time02}')\n",
        "print(f'Total Duration:      {time03 - time01}')"
      ],
      "metadata": {
        "colab": {
          "base_uri": "https://localhost:8080/"
        },
        "id": "mvVCGgc9L7E1",
        "outputId": "00ce83c6-7a2c-4bd8-be01-973ba802c38b"
      },
      "execution_count": 13,
      "outputs": [
        {
          "output_type": "stream",
          "name": "stdout",
          "text": [
            "Data Load Duration:  0:02:56.822317\n",
            "Processing Duration: 0:06:54.644441\n",
            "Total Duration:      0:09:51.466758\n"
          ]
        }
      ]
    },
    {
      "cell_type": "markdown",
      "source": [
        "END"
      ],
      "metadata": {
        "id": "_jfdmxd0L75o"
      }
    }
  ]
}